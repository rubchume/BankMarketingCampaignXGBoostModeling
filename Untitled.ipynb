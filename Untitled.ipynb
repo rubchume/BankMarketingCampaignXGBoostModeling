{
 "cells": [
  {
   "cell_type": "code",
   "execution_count": 2,
   "id": "cf2c754f-aef7-4c7e-b0aa-6640186575b9",
   "metadata": {
    "tags": []
   },
   "outputs": [
    {
     "data": {
      "text/plain": [
       "<_ParameterKind.KEYWORD_ONLY: 3>"
      ]
     },
     "execution_count": 2,
     "metadata": {},
     "output_type": "execute_result"
    }
   ],
   "source": [
    "from inspect import signature\n",
    "\n",
    "def foo(a, *, b:int, **kwargs):\n",
    "    pass\n",
    "\n",
    "sig = signature(foo)\n",
    "\n",
    "str(sig)\n",
    "'(a, *, b:int, **kwargs)'\n",
    "\n",
    "str(sig.parameters['b'])\n",
    "'b:int'\n",
    "\n",
    "sig.parameters['b'].annotation\n",
    "\n",
    "sig.parameters['b'].kind\n"
   ]
  },
  {
   "cell_type": "code",
   "execution_count": 12,
   "id": "f5f80847-aea4-47f8-9f34-e2dd8ffcf2bb",
   "metadata": {
    "tags": []
   },
   "outputs": [
    {
     "data": {
      "text/plain": [
       "odict_keys(['y_true', 'y_score', 'average', 'sample_weight', 'max_fpr', 'multi_class', 'labels'])"
      ]
     },
     "execution_count": 12,
     "metadata": {},
     "output_type": "execute_result"
    }
   ],
   "source": [
    "from sklearn.metrics import roc_auc_score\n",
    "\n",
    "\n",
    "signature(roc_auc_score).parameters.keys()"
   ]
  }
 ],
 "metadata": {
  "kernelspec": {
   "display_name": "Python 3 (ipykernel)",
   "language": "python",
   "name": "python3"
  },
  "language_info": {
   "codemirror_mode": {
    "name": "ipython",
    "version": 3
   },
   "file_extension": ".py",
   "mimetype": "text/x-python",
   "name": "python",
   "nbconvert_exporter": "python",
   "pygments_lexer": "ipython3",
   "version": "3.11.1"
  }
 },
 "nbformat": 4,
 "nbformat_minor": 5
}
